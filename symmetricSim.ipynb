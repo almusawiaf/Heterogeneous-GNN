{
 "cells": [
  {
   "cell_type": "markdown",
   "metadata": {},
   "source": [
    "# Symmetric Similarity Matrices\n",
    "\n",
    "-  Here, we try to find the similarity of the nodes on the diagonal. \n"
   ]
  },
  {
   "cell_type": "code",
   "execution_count": 1,
   "metadata": {},
   "outputs": [],
   "source": [
    "import numpy as np\n",
    "import pandas as pd\n",
    "import networkx as nx \n",
    "\n",
    "\n",
    "G_CV = nx.read_gml('Data/gmls/CV.gml')\n",
    "G_VM = nx.read_gml('Data/gmls/VM.gml')\n",
    "G_VD = nx.read_gml('Data/gmls/VD.gml')\n",
    "G_VP = nx.read_gml('Data/gmls/VP.gml')\n",
    "\n",
    "Patients    = [p for p in G_CV.nodes() if p[0]=='C']\n",
    "Visits      = [p for p in G_CV.nodes() if p[0]=='V']\n",
    "Medications = [p for p in G_VM.nodes() if p[0]=='M']\n",
    "Diagnosis   = [p for p in G_VD.nodes() if p[0]=='D']\n",
    "Procedures  = [p for p in G_VP.nodes() if p[0]=='P']\n",
    "\n",
    "C = len(Patients)\n",
    "V = len(Visits)\n",
    "Me = len(Medications)\n",
    "D = len(Diagnosis)\n",
    "P = len(Procedures)\n",
    "\n",
    "t = [C, V, Me, D, P]\n",
    "total = sum(t)\n"
   ]
  },
  {
   "cell_type": "code",
   "execution_count": 2,
   "metadata": {},
   "outputs": [],
   "source": [
    "def get_adjacency(G, Nodes1, Nodes2):\n",
    "    W = np.zeros((len(Nodes1), len(Nodes2)))\n",
    "    for i, n in enumerate(Nodes1):\n",
    "        for j, m in enumerate(Nodes2):\n",
    "            if G.has_edge(n,m) or G.has_edge(m,n):\n",
    "                W[i, j] = 1\n",
    "    return W\n",
    "\n",
    "def M(W1, W2):\n",
    "    return np.dot(W1, W2)\n",
    "            \n",
    "def symmmetric_assign(W, shift, t):\n",
    "    rows = W.shape[0]\n",
    "    cols = W.shape[1]\n",
    "    \n",
    "    newW = np.zeros((t,t))\n",
    "    for i in range(0, rows):\n",
    "        for j in range(0, cols):\n",
    "            newW[i+shift][j+shift] = W[i][j]\n",
    "    return newW\n",
    "\n",
    "W_cv = get_adjacency(G_CV, Patients, Visits)\n",
    "W_vm = get_adjacency(G_VM, Visits, Medications)\n",
    "W_vd = get_adjacency(G_VD, Visits, Diagnosis)\n",
    "W_vp = get_adjacency(G_VP, Visits, Procedures)"
   ]
  },
  {
   "cell_type": "code",
   "execution_count": 3,
   "metadata": {},
   "outputs": [],
   "source": [
    "# ------Non symmetric similarities\n",
    "M_CVM = M(W_cv, W_vm)\n",
    "M_CVD = M(W_cv, W_vd)\n",
    "M_CVP = M(W_cv, W_vp)\n",
    "\n",
    "M_MVD = M(W_vm.T, W_vd) # MVD\n",
    "M_MVP = M(W_vm.T, W_vp) # MVP\n",
    "\n",
    "M_DVM = M(W_vd.T, W_vm)\n",
    "M_DVP = M(W_vd.T, W_vp)\n",
    "\n",
    "M_PVM = M(W_vp.T, W_vp)\n",
    "M_PVD = M(W_vp.T, W_vd)"
   ]
  },
  {
   "cell_type": "code",
   "execution_count": 4,
   "metadata": {},
   "outputs": [],
   "source": [
    "# -------Visits--------\n",
    "M_VDV = M(W_vd, W_vd.T)\n",
    "\n",
    "M_VMV = M(W_vm, W_vm.T)\n",
    "M_VPV = M(W_vp, W_vp.T)\n",
    "\n",
    "# -------Patients--------\n",
    "\n",
    "M_CVMVC = M(M_CVM, M_CVM.T)\n",
    "M_CVDVC = M(M_CVD, M_CVD.T)\n",
    "M_CVPVC = M(M_CVP, M_CVP.T)\n",
    "\n",
    "# -------Medications--------\n",
    "M_MVM = M(W_vm.T, W_vm)\n",
    "\n",
    "M_MVDVM = M(M_MVD, M_MVD.T)\n",
    "M_MVPVM = M(M_MVP, M_MVP.T)\n",
    "\n",
    "# ----------Diagnosis--------------\n",
    "M_DVD = M(W_vd.T, W_vd)\n",
    "\n",
    "\n",
    "M_DVMVD = M(M_DVM, M_DVM.T)\n",
    "M_DVRVD = M(M_DVP, M_DVP.T)\n",
    "\n",
    "# -------Procedures----------\n",
    "M_PVP = M(W_vp.T, W_vp)\n",
    "\n",
    "\n",
    "M_PVMVP = M(M_PVM, M_PVM.T)\n",
    "M_PVDVP = M(M_PVD, M_PVD.T)\n"
   ]
  },
  {
   "cell_type": "code",
   "execution_count": 56,
   "metadata": {},
   "outputs": [
    {
     "name": "stdout",
     "output_type": "stream",
     "text": [
      "[998, 1171, 164, 425, 63] (998, 1171)\n"
     ]
    }
   ],
   "source": [
    "print(t, W_cv.shape)\n",
    "W_cv = get_adjacency(G_CV, Patients, Visits)\n",
    "W_vm = get_adjacency(G_VM, Visits, Medications)\n",
    "W_vd = get_adjacency(G_VD, Visits, Diagnosis)\n",
    "W_vp = get_adjacency(G_VP, Visits, Procedures)\n",
    "\n",
    "def asymmmetric_assign(W, shift_row, shift_col, t):\n",
    "    rows = W.shape[0]\n",
    "    cols = W.shape[1]\n",
    "    \n",
    "    newW = np.zeros((t,t))\n",
    "    for i in range(0, rows):\n",
    "        for j in range(0, cols):\n",
    "            newW[i+shift_row][j+shift_col] = W[i][j]\n",
    "    return newW\n",
    "\n",
    "asym = [W_cv  , W_cv.T,  W_vm,     W_vm.T,   W_vd,        W_vd.T,      W_vp,          W_vp.T]\n",
    "dim  = [(0, C), (C,0) , (C, C+V), (C+V, C), (C, C+V+Me), (C+V+Me, C), (C, C+V+Me+D), (C+V+Me+D, C) ]\n",
    "\n",
    "As2 = [asymmmetric_assign(A, dim[i][0], dim[i][1], sum(t)) for i, A in enumerate(asym)]\n",
    "\n"
   ]
  },
  {
   "cell_type": "code",
   "execution_count": 57,
   "metadata": {},
   "outputs": [],
   "source": [
    "# ------Non symmetric similarities\n",
    "asym3 = [M_CVM, M_CVM.T, \n",
    "       M_CVD, M_CVD.T, \n",
    "       M_CVP, M_CVP.T, \n",
    "\n",
    "       M_MVD, M_MVD.T, \n",
    "       M_MVP, M_MVP.T, \n",
    "       M_DVP, M_DVP.T]\n",
    "dim3  =[(0, C+V), (C+V, 0),\n",
    "       (0, C+V+Me), (C+V+Me,0),\n",
    "       (0,C+V+Me+D), (C+V+Me+D, 0),\n",
    "\n",
    "       (C+V, C+V+Me), (C+V+Me, C+V),\n",
    "       (C+V, C+V+Me+D), (C+V+Me+D, C+V), \n",
    "       (C+V+Me, C+V+Me+D), (C+V+Me+D, C+V+Me)\n",
    "       ]\n",
    "As3 = [asymmmetric_assign(A, dim3[i][0], dim3[i][1], sum(t)) for i, A in enumerate(asym3)]\n"
   ]
  },
  {
   "cell_type": "code",
   "execution_count": 62,
   "metadata": {},
   "outputs": [],
   "source": [
    "sym = [M_VDV, M_VMV, M_VPV, M_CVMVC, M_CVDVC, M_CVPVC, M_MVM, M_MVDVM, M_MVPVM, M_DVD, M_DVMVD, M_DVRVD, M_PVP, M_PVMVP, M_PVDVP]\n",
    "shf = [C    , C    , C    , 0      , 0      , 0      , C+V  , C+V    , C+V    , C+V+Me, C+V+Me, C+V+Me , C+V+Me+D, C+V+Me+D, C+V+Me+D]\n",
    "\n",
    "As = [symmmetric_assign(A, shf[i], sum(t)) for i, A in enumerate(sym)]\n",
    "As = As + As2 + As3"
   ]
  },
  {
   "cell_type": "markdown",
   "metadata": {},
   "source": [
    "### Now the idea is get averaged weight of the As."
   ]
  },
  {
   "cell_type": "code",
   "execution_count": 63,
   "metadata": {},
   "outputs": [
    {
     "data": {
      "text/plain": [
       "array([[2., 1., 1., ..., 0., 0., 0.],\n",
       "       [1., 2., 1., ..., 0., 0., 0.],\n",
       "       [1., 1., 2., ..., 0., 0., 0.],\n",
       "       ...,\n",
       "       [0., 0., 0., ..., 3., 2., 2.],\n",
       "       [0., 0., 0., ..., 2., 3., 2.],\n",
       "       [0., 0., 0., ..., 2., 2., 3.]])"
      ]
     },
     "execution_count": 63,
     "metadata": {},
     "output_type": "execute_result"
    }
   ],
   "source": [
    "B = np.zeros((As[0].shape))\n",
    "for a in As:\n",
    "    for i in range(a.shape[0]):\n",
    "        for j in range(a.shape[1]):\n",
    "            if a[i][j]!=0:\n",
    "                B[i][j]+=1\n",
    "\n",
    "B"
   ]
  },
  {
   "cell_type": "code",
   "execution_count": 64,
   "metadata": {},
   "outputs": [
    {
     "data": {
      "image/png": "[encoded data removed]",
      "text/plain": [
       "<Figure size 640x480 with 2 Axes>"
      ]
     },
     "metadata": {},
     "output_type": "display_data"
    }
   ],
   "source": [
    "from matplotlib import pyplot as plt\n",
    "from matplotlib.colors import LinearSegmentedColormap\n",
    "\n",
    "def heatmap(A, caption):\n",
    "    cmap = LinearSegmentedColormap.from_list('custom_cmap', [(0, 'white'), (0.5, 'blue'), (1, 'red')])\n",
    "    # plt.figure(figsize=(8, 8))  # Adjust the figsize as needed\n",
    "\n",
    "    plt.imshow(A, cmap=cmap, interpolation='nearest')\n",
    "    plt.colorbar()  # Add a colorbar to the heatmap\n",
    "    plt.title(f'Heatmap for {caption}')\n",
    "    plt.xlabel('X-axis')\n",
    "    plt.ylabel('Y-axis')\n",
    "\n",
    "    # Show the heatmap\n",
    "    plt.show()    \n",
    "\n",
    "heatmap(B, '')"
   ]
  },
  {
   "cell_type": "code",
   "execution_count": 65,
   "metadata": {},
   "outputs": [
    {
     "name": "stdout",
     "output_type": "stream",
     "text": [
      "Array saved to Data/symmetricPath/data.pickle\n"
     ]
    }
   ],
   "source": [
    "A = np.sum(As, axis=0)\n",
    "finalA = np.zeros((A.shape))\n",
    "for i in range(A.shape[0]):\n",
    "    for j in range(A.shape[1]):\n",
    "        if A[i][j]>0:\n",
    "            finalA[i][j] = A[i][j]/B[i][j]\n",
    "finalA\n",
    "\n",
    "\n",
    "import pickle\n",
    "\n",
    "filename = \"Data/symmetricPath/data.pickle\"\n",
    "\n",
    "# Save the NumPy array to a pickle file\n",
    "with open(filename, 'wb') as file:\n",
    "    pickle.dump(finalA, file)\n",
    "\n",
    "with open('Data/symmetricPath/visits.pickle', 'wb') as file:\n",
    "    pickle.dump(Visits, file)\n",
    "\n",
    "print(f\"Array saved to {filename}\")\n"
   ]
  }
 ],
 "metadata": {
  "kernelspec": {
   "display_name": "venvGNN",
   "language": "python",
   "name": "python3"
  },
  "language_info": {
   "codemirror_mode": {
    "name": "ipython",
    "version": 3
   },
   "file_extension": ".py",
   "mimetype": "text/x-python",
   "name": "python",
   "nbconvert_exporter": "python",
   "pygments_lexer": "ipython3",
   "version": "3.11.4"
  },
  "orig_nbformat": 4
 },
 "nbformat": 4,
 "nbformat_minor": 2
}
