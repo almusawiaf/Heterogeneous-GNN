{
 "cells": [
  {
   "attachments": {},
   "cell_type": "markdown",
   "metadata": {},
   "source": [
    "# Hetereogenous Graph / Patient Classification"
   ]
  },
  {
   "cell_type": "code",
   "execution_count": 1,
   "metadata": {},
   "outputs": [
    {
     "name": "stdout",
     "output_type": "stream",
     "text": [
      "2.0.1+cpu\n"
     ]
    }
   ],
   "source": [
    "import numpy as np\n",
    "import pandas as pd\n",
    "from sklearn.model_selection import train_test_split\n",
    "# building the dataset\n",
    "# Go to Pratip/Deep Learning Tutorial/GNN/PSG_GCN.ipynb\n",
    "import os\n",
    "import torch\n",
    "from torch_geometric.data import Data\n",
    "import networkx as nx \n",
    "from torch_geometric.utils.convert import from_networkx\n",
    "import DataLoader as DL\n",
    "\n",
    "os.environ['TORCH'] = torch.__version__\n",
    "print(torch.__version__)\n",
    "use_cuda_if_available = False\n"
   ]
  },
  {
   "cell_type": "code",
   "execution_count": 2,
   "metadata": {},
   "outputs": [],
   "source": [
    "folder_path = 'Data/MIMIC resources'\n",
    "\n",
    "df_Admissions = pd.read_csv(f'{folder_path}/ADMISSIONS.csv')\n",
    "\n",
    "df_Patients = pd.read_csv(f'{folder_path}/PATIENTS.csv')\n",
    "\n",
    "# medication!\n",
    "df_Prescription = pd.read_csv(f'{folder_path}/PRESCRIPTIONS.csv')\n",
    "\n",
    "# Diagnosis!\n",
    "df_DiagnosisICD = pd.read_csv(f'{folder_path}/DIAGNOSES_ICD.csv')\n",
    "\n",
    "# Procedures!\n",
    "df_ProceduresICD = pd.read_csv(f'{folder_path}/PROCEDURES_ICD.csv')\n",
    "# ICUStays\n",
    "df_Icustays = pd.read_csv(f'{folder_path}/ICUSTAYS.csv')\n",
    "\n",
    "\n",
    "df_ProceduresICD.dropna(subset=['ICD9_CODE'], inplace=True)\n",
    "df_Prescription.dropna(subset=['drug'], inplace=True)\n",
    "df_DiagnosisICD.dropna(subset=['ICD9_CODE'], inplace=True)"
   ]
  },
  {
   "cell_type": "code",
   "execution_count": 3,
   "metadata": {},
   "outputs": [
    {
     "data": {
      "text/html": [
       "<div>\n",
       "<style scoped>\n",
       "    .dataframe tbody tr th:only-of-type {\n",
       "        vertical-align: middle;\n",
       "    }\n",
       "\n",
       "    .dataframe tbody tr th {\n",
       "        vertical-align: top;\n",
       "    }\n",
       "\n",
       "    .dataframe thead th {\n",
       "        text-align: right;\n",
       "    }\n",
       "</style>\n",
       "<table border=\"1\" class=\"dataframe\">\n",
       "  <thead>\n",
       "    <tr style=\"text-align: right;\">\n",
       "      <th></th>\n",
       "      <th>ROW_ID</th>\n",
       "      <th>SUBJECT_ID</th>\n",
       "      <th>HADM_ID</th>\n",
       "      <th>SEQ_NUM</th>\n",
       "      <th>ICD9_CODE</th>\n",
       "    </tr>\n",
       "  </thead>\n",
       "  <tbody>\n",
       "    <tr>\n",
       "      <th>0</th>\n",
       "      <td>944</td>\n",
       "      <td>62641</td>\n",
       "      <td>154460</td>\n",
       "      <td>3</td>\n",
       "      <td>34</td>\n",
       "    </tr>\n",
       "    <tr>\n",
       "      <th>1</th>\n",
       "      <td>945</td>\n",
       "      <td>2592</td>\n",
       "      <td>130856</td>\n",
       "      <td>1</td>\n",
       "      <td>96</td>\n",
       "    </tr>\n",
       "    <tr>\n",
       "      <th>2</th>\n",
       "      <td>946</td>\n",
       "      <td>2592</td>\n",
       "      <td>130856</td>\n",
       "      <td>2</td>\n",
       "      <td>38</td>\n",
       "    </tr>\n",
       "    <tr>\n",
       "      <th>3</th>\n",
       "      <td>947</td>\n",
       "      <td>55357</td>\n",
       "      <td>119355</td>\n",
       "      <td>1</td>\n",
       "      <td>96</td>\n",
       "    </tr>\n",
       "    <tr>\n",
       "      <th>4</th>\n",
       "      <td>948</td>\n",
       "      <td>55357</td>\n",
       "      <td>119355</td>\n",
       "      <td>2</td>\n",
       "      <td>33</td>\n",
       "    </tr>\n",
       "    <tr>\n",
       "      <th>...</th>\n",
       "      <td>...</td>\n",
       "      <td>...</td>\n",
       "      <td>...</td>\n",
       "      <td>...</td>\n",
       "      <td>...</td>\n",
       "    </tr>\n",
       "    <tr>\n",
       "      <th>240090</th>\n",
       "      <td>228330</td>\n",
       "      <td>67415</td>\n",
       "      <td>150871</td>\n",
       "      <td>5</td>\n",
       "      <td>37</td>\n",
       "    </tr>\n",
       "    <tr>\n",
       "      <th>240091</th>\n",
       "      <td>228331</td>\n",
       "      <td>67415</td>\n",
       "      <td>150871</td>\n",
       "      <td>6</td>\n",
       "      <td>38</td>\n",
       "    </tr>\n",
       "    <tr>\n",
       "      <th>240092</th>\n",
       "      <td>228332</td>\n",
       "      <td>67415</td>\n",
       "      <td>150871</td>\n",
       "      <td>7</td>\n",
       "      <td>88</td>\n",
       "    </tr>\n",
       "    <tr>\n",
       "      <th>240093</th>\n",
       "      <td>228333</td>\n",
       "      <td>67415</td>\n",
       "      <td>150871</td>\n",
       "      <td>8</td>\n",
       "      <td>38</td>\n",
       "    </tr>\n",
       "    <tr>\n",
       "      <th>240094</th>\n",
       "      <td>228334</td>\n",
       "      <td>67415</td>\n",
       "      <td>150871</td>\n",
       "      <td>9</td>\n",
       "      <td>37</td>\n",
       "    </tr>\n",
       "  </tbody>\n",
       "</table>\n",
       "<p>240095 rows × 5 columns</p>\n",
       "</div>"
      ],
      "text/plain": [
       "        ROW_ID  SUBJECT_ID  HADM_ID  SEQ_NUM ICD9_CODE\n",
       "0          944       62641   154460        3        34\n",
       "1          945        2592   130856        1        96\n",
       "2          946        2592   130856        2        38\n",
       "3          947       55357   119355        1        96\n",
       "4          948       55357   119355        2        33\n",
       "...        ...         ...      ...      ...       ...\n",
       "240090  228330       67415   150871        5        37\n",
       "240091  228331       67415   150871        6        38\n",
       "240092  228332       67415   150871        7        88\n",
       "240093  228333       67415   150871        8        38\n",
       "240094  228334       67415   150871        9        37\n",
       "\n",
       "[240095 rows x 5 columns]"
      ]
     },
     "execution_count": 3,
     "metadata": {},
     "output_type": "execute_result"
    }
   ],
   "source": [
    "# convert all procedure codes into two digits only\n",
    "# convert all diagnosis codes into three digits only\n",
    "\n",
    "def extract3(code):\n",
    "    return str(code)[:3]\n",
    "def extract2(code):\n",
    "    return str(code)[:2]\n",
    "\n",
    "df_DiagnosisICD['ICD9_CODE'] = df_DiagnosisICD['ICD9_CODE'].apply(extract3)\n",
    "df_ProceduresICD['ICD9_CODE'] = df_ProceduresICD['ICD9_CODE'].apply(extract2)\n",
    "\n",
    "df_ProceduresICD\n"
   ]
  },
  {
   "cell_type": "code",
   "execution_count": 4,
   "metadata": {},
   "outputs": [
    {
     "name": "stdout",
     "output_type": "stream",
     "text": [
      "Number of Patients = 46520\n",
      "Number of Admissions = 58976\n",
      "Number of Diagnosis = 942\n",
      "Number of procedures = 89\n",
      "Number of Medication = 592\n"
     ]
    }
   ],
   "source": [
    "Procedures = sorted(df_ProceduresICD['ICD9_CODE'].unique())\n",
    "Medication = sorted(df_Prescription['drug'].unique())\n",
    "Diagnosis  = df_DiagnosisICD['ICD9_CODE'].unique()\n",
    "Patients = df_Patients['SUBJECT_ID'].unique()\n",
    "Admissions = df_Admissions['HADM_ID'].unique()\n",
    "\n",
    "print(f'Number of Patients = {len(Patients)}')\n",
    "\n",
    "print(f'Number of Admissions = {len(Admissions)}')\n",
    "\n",
    "print(f'Number of Diagnosis = {len(Diagnosis)}')\n",
    "\n",
    "print(f'Number of procedures = {len(Procedures)}')\n",
    "\n",
    "print(f'Number of Medication = {len(Medication)}')"
   ]
  },
  {
   "attachments": {},
   "cell_type": "markdown",
   "metadata": {},
   "source": [
    "# LUNG Patients only\n",
    "**ICD9=162**"
   ]
  },
  {
   "cell_type": "code",
   "execution_count": 5,
   "metadata": {},
   "outputs": [
    {
     "name": "stdout",
     "output_type": "stream",
     "text": [
      "        ROW_ID  SUBJECT_ID  HADM_ID  SEQ_NUM ICD9_CODE\n",
      "584        813         103   130744      3.0       162\n",
      "592        821         103   133550      3.0       162\n",
      "1037       430          56   181711      2.0       162\n",
      "1936      3472         291   126219      3.0       162\n",
      "2541      1882         150   108732      1.0       162\n",
      "...        ...         ...      ...      ...       ...\n",
      "649252  638905       97301   195551      3.0       162\n",
      "650147  640459       97603   166108      1.0       162\n",
      "650674  632564       96004   141589      3.0       162\n",
      "650784  632674       96023   116385      6.0       162\n",
      "650789  632679       96023   174400      1.0       162\n",
      "\n",
      "[1181 rows x 5 columns]\n"
     ]
    }
   ],
   "source": [
    "# # restricting to LUNG disease\n",
    "ICD_Diagnosis_Lung = [i for i in Diagnosis if str(i).startswith('162')]\n",
    "\n",
    "df_sub = df_DiagnosisICD[df_DiagnosisICD['ICD9_CODE'].str.startswith('162')]\n",
    "\n",
    "\n",
    "# Taking the entire dataset!\n",
    "# df_sub = df_DiagnosisICD.copy()\n",
    "# Display the sub dataframe\n",
    "print(df_sub)\n",
    "\n",
    "df_sub.to_csv('Data/LungPatients.csv', index=False)"
   ]
  },
  {
   "cell_type": "code",
   "execution_count": 6,
   "metadata": {},
   "outputs": [
    {
     "name": "stdout",
     "output_type": "stream",
     "text": [
      "Number of Patients = 998\n",
      "Number of Admission = 1171\n"
     ]
    }
   ],
   "source": [
    "Patients = df_sub['SUBJECT_ID'].unique()\n",
    "Admissions = df_sub['HADM_ID'].unique()\n",
    "\n",
    "print(f'Number of Patients = {len(Patients)}')\n",
    "print(f'Number of Admission = {len(Admissions)}')"
   ]
  },
  {
   "attachments": {},
   "cell_type": "markdown",
   "metadata": {},
   "source": [
    "## Extracting visits (admissions) of each patient sorted by its date."
   ]
  },
  {
   "cell_type": "code",
   "execution_count": 7,
   "metadata": {},
   "outputs": [],
   "source": [
    "def getDict(A, DF, label1, label2):\n",
    "    # Extracting the list of NODES for each A item. \n",
    "    # Filter the dataframe to extract Nodes associated with the specified label1\n",
    "    # Extract the list of Nodes associated with the patient\n",
    "    D = {}\n",
    "    for v in A:\n",
    "        df = DF[DF[label1] == v]\n",
    "        id_list = df[label2].tolist()\n",
    "        D[v] = id_list\n",
    "    \n",
    "    return D\n",
    "\n",
    "# def getNodes_and_Edges(D):\n",
    "#     DNodes, DEdges = [], []\n",
    "#     for i, v in D.items():\n",
    "#         for j in v:\n",
    "#             if isinstance(j, (int, float, str)) and not np.isnan(j):\n",
    "#                 DEdges.append([i,j])\n",
    "#                 if j not in DNodes:\n",
    "#                     DNodes.append(j)\n",
    "#     return DNodes, DEdges\n",
    "\n",
    "def getNodes_and_Edges(D):\n",
    "    DEdges = []\n",
    "    DNodes = []\n",
    "    for i, v in D.items():\n",
    "        for j in v:\n",
    "            if isinstance(j, (int, float)) and not np.isnan(j):\n",
    "                DEdges.append([i, j])\n",
    "                if j not in DNodes:\n",
    "                    DNodes.append(j)\n",
    "            elif isinstance(j, str):\n",
    "                # Check if it's a valid numeric string before treating it as a node\n",
    "                try:\n",
    "                    numeric_value = float(j)\n",
    "                    DEdges.append([i, numeric_value])\n",
    "                    if numeric_value not in DNodes:\n",
    "                        DNodes.append(numeric_value)\n",
    "                except ValueError:\n",
    "                    # If it's not a valid numeric string, treat it as a regular string node\n",
    "                    DEdges.append([i, j])\n",
    "                    if j not in DNodes:\n",
    "                        DNodes.append(j)\n",
    "    return DNodes, remove_red(DEdges)\n",
    "\n",
    "def remove_red(DEdges):\n",
    "    f = []\n",
    "    for u,v in DEdges:\n",
    "        if [u,v] not in f:\n",
    "            f.append([u,v])\n",
    "    return f"
   ]
  },
  {
   "cell_type": "code",
   "execution_count": 8,
   "metadata": {},
   "outputs": [
    {
     "name": "stdout",
     "output_type": "stream",
     "text": [
      "Total number of patient-visit = 1436\n",
      "Total number of Visit-Diagnosis = 16818\n",
      "Total number of Visit-Procedure = 4390\n",
      "Total number of Visit-Medication = 334\n",
      "Total number of Visit-ICUSTAY = 8\n"
     ]
    }
   ],
   "source": [
    "VisitDict      = getDict(Patients, df_Admissions, 'SUBJECT_ID', 'HADM_ID')\n",
    "\n",
    "VisitNodes, PatientVisit = getNodes_and_Edges(VisitDict)\n",
    "print(f'Total number of patient-visit = {len(PatientVisit)}')\n",
    "\n",
    "\n",
    "# -----------------------------------------------------------------------------\n",
    "DiagnosisDict  = getDict(VisitNodes, df_DiagnosisICD, 'HADM_ID', 'ICD9_CODE')\n",
    "DiagnosisNodes, VisitDiagnosis = getNodes_and_Edges(DiagnosisDict)\n",
    "print(f'Total number of Visit-Diagnosis = {len(VisitDiagnosis)}')\n",
    "\n",
    "\n",
    "# -----------------------------------------------------------------------------\n",
    "ProcedureDict  = getDict(VisitNodes, df_ProceduresICD, 'HADM_ID', 'ICD9_CODE')\n",
    "ProcedureNodes, VisitProcedure = getNodes_and_Edges(ProcedureDict)\n",
    "print(f'Total number of Visit-Procedure = {len(VisitProcedure)}')\n",
    "\n",
    "\n",
    "# -----------------------------------------------------------------------------\n",
    "MedicationDict = getDict(VisitNodes, df_Prescription, 'hadm_id', 'drug')\n",
    "MedicationNodes, VisitMedication = getNodes_and_Edges(MedicationDict)\n",
    "print(f'Total number of Visit-Medication = {len(VisitMedication)}')\n",
    "\n",
    "\n",
    "# -----------------------------------------------------------------------------\n",
    "ICUSTAYDict = getDict(VisitNodes, df_Prescription, 'hadm_id', 'icustay_id')\n",
    "ICUSTAYNodes, VisitICUSTAY = getNodes_and_Edges(ICUSTAYDict)\n",
    "print(f'Total number of Visit-ICUSTAY = {len(VisitICUSTAY)}')\n",
    "\n",
    "# # -----------------------------------------------------------------------------\n",
    "# ICUSTAY_MedicationDict = getDict(ICUSTAYNodes, df_Prescription, 'icustay_id', 'drug')\n",
    "# _, ICUSTAY_Medication = getNodes_and_Edges(ICUSTAY_MedicationDict)\n",
    "# print(f'Total number of ICUSTAY-Medication = {len(ICUSTAY_Medication)}')"
   ]
  },
  {
   "cell_type": "markdown",
   "metadata": {},
   "source": [
    "### Mapping function for Nodes and edges"
   ]
  },
  {
   "cell_type": "code",
   "execution_count": 9,
   "metadata": {},
   "outputs": [],
   "source": [
    "# c, C : Patients\n",
    "# v, V : visits\n",
    "# d, D : Diagnosis\n",
    "# p, P : Procedure\n",
    "# m, M : Medication\n",
    "# i, I : ICUSTAY\n",
    "\n",
    "CV_edges = [[f'C_{u}', f'V_{v}'] for u,v in PatientVisit]\n",
    "VD_edges = [[f'V_{u}', f'D_{v}'] for u,v in VisitDiagnosis]\n",
    "VP_edges = [[f'V_{u}', f'P_{v}'] for u,v in VisitProcedure]\n",
    "VM_edges = [[f'V_{u}', f'M_{v}'] for u,v in VisitMedication]\n",
    "VI_edges = [[f'V_{u}', f'I_{v}'] for u,v in VisitICUSTAY]\n",
    "# IM_edges = [[f'I_{u}', f'M_{v}'] for u,v in ICUSTAY_Medication]"
   ]
  },
  {
   "cell_type": "code",
   "execution_count": 10,
   "metadata": {},
   "outputs": [
    {
     "name": "stdout",
     "output_type": "stream",
     "text": [
      "3115\n"
     ]
    }
   ],
   "source": [
    "edge_index = CV_edges + VD_edges + VP_edges + VM_edges + VI_edges\n",
    "\n",
    "tempG = nx.Graph()\n",
    "tempG.add_edges_from(edge_index)\n",
    "\n",
    "print(len(tempG.nodes()))\n",
    "Total_number_of_nodes = len(VisitNodes) + len(DiagnosisNodes) + len(ProcedureNodes) + len(MedicationNodes) + len(Patients)\n",
    "\n",
    "Nodes = list(tempG.nodes())"
   ]
  },
  {
   "cell_type": "code",
   "execution_count": 11,
   "metadata": {},
   "outputs": [],
   "source": [
    "class1 = df_Admissions[df_Admissions['SUBJECT_ID'].isin(Patients)]\n",
    "\n",
    "dead_patients = class1[class1['HOSPITAL_EXPIRE_FLAG'] == 1]['SUBJECT_ID'].tolist()\n",
    "dead_patients = [f'C_{i}' for i in dead_patients]\n",
    "\n",
    "# ----------------------------------------------------------------------------------\n",
    "class2 = df_Icustays[df_Icustays['SUBJECT_ID'].isin(Patients)]\n",
    "\n",
    "new_df = class2.groupby('SUBJECT_ID')['LOS'].sum().reset_index()\n",
    "ICU = getDict(Patients, new_df, 'SUBJECT_ID', 'LOS')"
   ]
  },
  {
   "cell_type": "code",
   "execution_count": 12,
   "metadata": {},
   "outputs": [],
   "source": [
    "# ICU2 = {f'C_{i}': sum(v) for i, v in ICU.items()}\n",
    "# Y2 = {}\n",
    "# for i in Nodes:\n",
    "#     if i[0]=='C':\n",
    "#         if ICU2[i]<10:\n",
    "#             Y2[i] = 0\n",
    "#         else:\n",
    "#             Y2[i] = 1\n",
    "#     else:\n",
    "#         Y2[i] = 2\n",
    "\n",
    "# Y = Y2"
   ]
  },
  {
   "cell_type": "markdown",
   "metadata": {},
   "source": [
    "## Setting the nodes, edges and related data to Data \n",
    "\n",
    "https://stackoverflow.com/questions/70452465/how-to-load-in-graph-from-networkx-into-pytorch-geometric-and-set-node-features"
   ]
  },
  {
   "cell_type": "code",
   "execution_count": 13,
   "metadata": {},
   "outputs": [],
   "source": [
    "Y = {}\n",
    "for i in Nodes:\n",
    "    if i[0]=='C':\n",
    "        if i in dead_patients:\n",
    "            Y[i] = 1\n",
    "        else:\n",
    "            Y[i] = 0\n",
    "    else:\n",
    "        Y[i] = 2\n",
    "\n",
    "\n",
    "# 0 for alive patient\n",
    "# 1 for dead patient\n",
    "# 2 for other nodes\n"
   ]
  },
  {
   "cell_type": "code",
   "execution_count": 14,
   "metadata": {},
   "outputs": [
    {
     "name": "stdout",
     "output_type": "stream",
     "text": [
      "Before  721 277\n",
      "After  277 277\n"
     ]
    },
    {
     "name": "stderr",
     "output_type": "stream",
     "text": [
      "c:\\Anaconda3\\envs\\GNNenv\\Lib\\site-packages\\torch_geometric\\utils\\convert.py:249: UserWarning: Creating a tensor from a list of numpy.ndarrays is extremely slow. Please consider converting the list to a single numpy.ndarray with numpy.array() before converting to a tensor. (Triggered internally at ..\\torch\\csrc\\utils\\tensor_new.cpp:248.)\n",
      "  data[key] = torch.tensor(value)\n"
     ]
    },
    {
     "data": {
      "text/plain": [
       "Data(x=[2671, 128], edge_index=[2, 44706], y=[2671])"
      ]
     },
     "execution_count": 14,
     "metadata": {},
     "output_type": "execute_result"
    }
   ],
   "source": [
    "X = np.random.randn(len(Nodes), 128)\n",
    "# X = np.eye(Total_number_of_nodes)\n",
    "\n",
    "num_classes = 2\n",
    "num_features = X.shape[1]\n",
    "\n",
    "G = nx.Graph()\n",
    "\n",
    "G.add_nodes_from([\n",
    "    (v, {'y': Y[v], 'x': X[i]}) for i, v in enumerate(list(tempG.nodes()))\n",
    "    ])\n",
    "\n",
    "G.add_edges_from(edge_index)\n",
    "\n",
    "G = DL.Heter_Undersampling(G)\n",
    "\n",
    "data = from_networkx(G)\n",
    "data"
   ]
  },
  {
   "cell_type": "code",
   "execution_count": 15,
   "metadata": {},
   "outputs": [
    {
     "name": "stdout",
     "output_type": "stream",
     "text": [
      "torch.Size([2671]) 554\n"
     ]
    }
   ],
   "source": [
    "mask_0_1 = (data.y == 0) | (data.y == 1)\n",
    "print(mask_0_1.shape, sum([1 if v else 0 for v in mask_0_1]))"
   ]
  },
  {
   "cell_type": "markdown",
   "metadata": {},
   "source": [
    "## Creating new masks out of patient nodes only"
   ]
  },
  {
   "cell_type": "code",
   "execution_count": 16,
   "metadata": {},
   "outputs": [
    {
     "name": "stdout",
     "output_type": "stream",
     "text": [
      "Train =  0.3877755511022044\n",
      "Val =  0.05511022044088176\n",
      "Test =  0.11222444889779559\n"
     ]
    }
   ],
   "source": [
    "data.y\n",
    "newY = []\n",
    "for i,v in enumerate(list(data.y)):\n",
    "    if v in [0,1]:\n",
    "        newY.append([i,v])\n",
    "\n",
    "y_train, y_left = train_test_split(newY    , train_size=0.7, random_state=42)\n",
    "y_val,   y_test = train_test_split(y_left  , test_size=2/3, random_state=42)\n",
    "\n",
    "# Create masks for train, validation, and test sets\n",
    "train_mask = np.zeros(len(data.y), dtype=bool)\n",
    "val_mask = np.zeros(len(data.y), dtype=bool)\n",
    "test_mask = np.zeros(len(data.y), dtype=bool)\n",
    "\n",
    "for i,v in y_train:\n",
    "    train_mask[i] = True\n",
    "\n",
    "for i,v in y_val:\n",
    "    val_mask[i] = True\n",
    "\n",
    "for i, v in y_test:\n",
    "    test_mask[i] = True\n",
    "\n",
    "print('Train = ', sum([1 if v else 0 for v in train_mask])/998)\n",
    "print('Val = ', sum([1 if v else 0 for v in val_mask])/998)\n",
    "print('Test = ', sum([1 if v else 0 for v in test_mask])/998)"
   ]
  },
  {
   "cell_type": "code",
   "execution_count": 17,
   "metadata": {},
   "outputs": [],
   "source": [
    "data.train_mask = train_mask\n",
    "data.test_mask  = test_mask\n",
    "data.val_mask   = val_mask"
   ]
  },
  {
   "cell_type": "code",
   "execution_count": 18,
   "metadata": {},
   "outputs": [
    {
     "name": "stdout",
     "output_type": "stream",
     "text": [
      "Data(x=[2671, 128], edge_index=[2, 44706], y=[2671], train_mask=[2671], test_mask=[2671], val_mask=[2671])\n",
      "Epoch: 010, Train Loss: 0.593, Val Acc: 0.545\n"
     ]
    },
    {
     "data": {
      "image/png": "[encoded data removed]",
      "text/plain": [
       "<Figure size 800x600 with 1 Axes>"
      ]
     },
     "metadata": {},
     "output_type": "display_data"
    },
    {
     "name": "stdout",
     "output_type": "stream",
     "text": [
      "[[25 34]\n",
      " [25 28]]\n",
      "F1 score =  0.4728360590347028\n",
      "Precision score =  0.47580645161290325\n",
      "AUC Precision score =  0.4618022345882966\n",
      "Test Acc: 0.473\n",
      "\n"
     ]
    }
   ],
   "source": [
    "import GNNModel as GNNM\n",
    "\n",
    "data.x = data.x.float()\n",
    "data.y = data.y.long()\n",
    "\n",
    "device = torch.device('cuda' if torch.cuda.is_available() else 'cpu')\n",
    "\n",
    "data = data.to(device)\n",
    "print(data)\n",
    "data.num_classes = 2\n",
    "data.num_features = data.x.shape[1]\n",
    "gcn = GNNM.SAGE(data.num_features, data.num_classes).to(device)\n",
    "\n",
    "optimizer_gcn = torch.optim.Adam(gcn.parameters(), lr=0.01, weight_decay=5e-4)\n",
    "criterion = torch.nn.CrossEntropyLoss()\n",
    "gcn, df = GNNM.train_node_classifier(gcn, data, optimizer_gcn, criterion, n_epochs=15)\n",
    "\n",
    "GNNM.plt_performance(df)\n",
    "# ----------------------------------------------------------------------------\n",
    "pred = gcn(data).argmax(dim=1)\n",
    "\n",
    "pred = pred[data.test_mask] .detach().cpu().numpy()\n",
    "correct = data.y[data.test_mask].detach().cpu().numpy()\n",
    "\n",
    "GNNM.create_confusion_matrix(pred, correct)\n",
    "\n",
    "\n",
    "test_acc, _ = GNNM.eval_node_classifier(gcn, data, data.test_mask)\n",
    "print(f'Test Acc: {test_acc:.3f}\\n')"
   ]
  }
 ],
 "metadata": {
  "kernelspec": {
   "display_name": "base",
   "language": "python",
   "name": "python3"
  },
  "language_info": {
   "codemirror_mode": {
    "name": "ipython",
    "version": 3
   },
   "file_extension": ".py",
   "mimetype": "text/x-python",
   "name": "python",
   "nbconvert_exporter": "python",
   "pygments_lexer": "ipython3",
   "version": "3.11.4"
  },
  "orig_nbformat": 4
 },
 "nbformat": 4,
 "nbformat_minor": 2
}
