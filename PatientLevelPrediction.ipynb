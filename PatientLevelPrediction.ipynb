{
 "cells": [
  {
   "cell_type": "code",
   "execution_count": 1,
   "metadata": {},
   "outputs": [],
   "source": [
    "import numpy as np\n",
    "from torch_geometric.utils.convert import from_networkx\n",
    "from sklearn.model_selection import train_test_split\n",
    "import networkx as nx \n",
    "import matplotlib.pyplot as plt\n",
    "\n",
    "import extractingHG as exHG"
   ]
  },
  {
   "cell_type": "code",
   "execution_count": 2,
   "metadata": {},
   "outputs": [],
   "source": [
    "# Extracting the information...\n",
    "\n",
    "# exHG.extracting_patient_visit_labels()\n",
    "\n",
    "# Reading everything...\n",
    "Patients    = exHG.reading_pickle('Data/symmetricPath/patients.pickle')\n",
    "Visits      = exHG.reading_pickle('Data/symmetricPath/visits.pickle')\n",
    "Medications = exHG.reading_pickle('Data/symmetricPath/medication.pickle')\n",
    "Diagnosis   = exHG.reading_pickle('Data/symmetricPath/diagnosis.pickle')\n",
    "Procedures  = exHG.reading_pickle('Data/symmetricPath/procedures.pickle')\n",
    "\n",
    "# Reading the metapath (pathsim-based) overall similarity matrix\n",
    "data        = exHG.reading_pickle('Data/symmetricPath/data_B.pickle')\n",
    "\n",
    "# Reading the labels\n",
    "Patients_label = exHG.reading_pickle('Data/labels/patient_labels.pickle')\n",
    "Visits_label   = exHG.reading_pickle('Data/labels/visit_labels.pickle')"
   ]
  },
  {
   "cell_type": "code",
   "execution_count": 3,
   "metadata": {},
   "outputs": [
    {
     "data": {
      "text/plain": [
       "array([[2., 1., 1., ..., 0., 0., 0.],\n",
       "       [1., 2., 1., ..., 0., 0., 0.],\n",
       "       [1., 1., 2., ..., 0., 0., 0.],\n",
       "       ...,\n",
       "       [0., 0., 0., ..., 3., 2., 2.],\n",
       "       [0., 0., 0., ..., 2., 3., 2.],\n",
       "       [0., 0., 0., ..., 2., 2., 3.]])"
      ]
     },
     "execution_count": 3,
     "metadata": {},
     "output_type": "execute_result"
    }
   ],
   "source": [
    "data"
   ]
  },
  {
   "cell_type": "code",
   "execution_count": 4,
   "metadata": {},
   "outputs": [
    {
     "name": "stdout",
     "output_type": "stream",
     "text": [
      "<class 'numpy.ndarray'>\n",
      "Top 30 Items: {'D_162.0': 998, 'D_401.0': 396, 'D_518.0': 392, 'D_198.0': 371, 'D_427.0': 340, 'D_272.0': 272, 'D_276.0': 243, 'D_496.0': 217, 'D_285.0': 205, 'D_V15': 200, 'D_486.0': 195, 'D_197.0': 180, 'D_250.0': 178, 'D_584.0': 173, 'D_414.0': 163, 'D_428.0': 153, 'D_530.0': 152, 'D_V10': 151, 'D_196.0': 150, 'D_V45': 140, 'D_511.0': 130, 'D_458.0': 105, 'D_305.0': 105, 'D_E87': 99, 'D_E93': 92, 'D_V58': 87, 'D_244.0': 87, 'D_38.0': 85, 'D_785.0': 85, 'D_585.0': 83}\n"
     ]
    }
   ],
   "source": [
    "selected_length = 30\n",
    "Diagnosis_List = []\n",
    "for patient in Patients:\n",
    "    Diagnosis_List.append(Patients_label[patient])\n",
    "print(type(Diagnosis_List[0]))\n",
    "total_diagnosis = sum([d for d in Diagnosis_List])\n",
    "Diagnosis_freq = {Diagnosis[i]: total_diagnosis[i] for i in range(len(total_diagnosis))}\n",
    "sorted_Diagnosis_freq = sorted(Diagnosis_freq.items(), key=lambda x: x[1], reverse=True)\n",
    "\n",
    "top_diagnosis = sorted_Diagnosis_freq[:selected_length]\n",
    "top_dict = dict(top_diagnosis)\n",
    "print(f'Top {selected_length} Items:', top_dict)\n",
    "\n",
    "selected_cols = [i for i, v in enumerate(Diagnosis) if v in top_dict]\n",
    "new_label = [arr[selected_cols] for arr in Diagnosis_List]\n",
    "Patients_label2 = {patient: new_label[i] for i, patient in enumerate(Patients)}"
   ]
  },
  {
   "cell_type": "code",
   "execution_count": 5,
   "metadata": {},
   "outputs": [
    {
     "name": "stdout",
     "output_type": "stream",
     "text": [
      "average number of diagnosis on selected set is  207.56666666666666\n"
     ]
    }
   ],
   "source": [
    "new_freq = [top_dict[t] for t in top_dict]\n",
    "print('average number of diagnosis on selected set is ', sum(new_freq)/len(new_freq) )"
   ]
  },
  {
   "cell_type": "code",
   "execution_count": 6,
   "metadata": {},
   "outputs": [],
   "source": [
    "import torch\n",
    "\n",
    "# Setting the graph based on the similarity matrix\n",
    "G = nx.Graph()\n",
    "\n",
    "Nodes = Patients + Visits + Medications + Diagnosis  + Procedures\n",
    "G.add_nodes_from(Nodes)\n",
    "\n",
    "# assign the Patient label as Y...\n",
    "for node in G.nodes:\n",
    "    if node[0]=='C':\n",
    "        G.nodes[node]['y'] = torch.tensor(Patients_label2[node])\n",
    "    else:\n",
    "        G.nodes[node]['y'] = torch.tensor(np.zeros((selected_length)))\n",
    "\n",
    "# assign the weight of the edges into the graph\n",
    "for i, v in enumerate(Nodes):\n",
    "    if v[0]!= 'D':\n",
    "        for j, u in enumerate(Nodes):\n",
    "            if data[i][j]>0 and u[0]!='D':\n",
    "                G.add_edge(v, u, weight=data[i][j])\n",
    "\n",
    "# Nodes features\n",
    "# X = np.random.randn(len(list(G.nodes())), 128)\n",
    "X = np.eye(len(list(G.nodes())))\n",
    "\n",
    "for i, node in enumerate(list(G.nodes())):\n",
    "    G.nodes[node]['x'] = X[i]"
   ]
  },
  {
   "cell_type": "code",
   "execution_count": 7,
   "metadata": {},
   "outputs": [
    {
     "name": "stderr",
     "output_type": "stream",
     "text": [
      "c:\\Users\\almusawiaf\\Anaconda3\\envs\\venvGNN\\lib\\site-packages\\torch_geometric\\utils\\convert.py:249: UserWarning: Creating a tensor from a list of numpy.ndarrays is extremely slow. Please consider converting the list to a single numpy.ndarray with numpy.array() before converting to a tensor. (Triggered internally at C:\\actions-runner\\_work\\pytorch\\pytorch\\builder\\windows\\pytorch\\torch\\csrc\\utils\\tensor_new.cpp:248.)\n",
      "  data[key] = torch.tensor(value)\n"
     ]
    }
   ],
   "source": [
    "# Creating the data structure\n",
    "data = from_networkx(G)"
   ]
  },
  {
   "cell_type": "code",
   "execution_count": 8,
   "metadata": {},
   "outputs": [
    {
     "name": "stdout",
     "output_type": "stream",
     "text": [
      "Data(x=[2821, 2821], edge_index=[2, 2418040], y=[2821, 30], weight=[2418040])\n"
     ]
    }
   ],
   "source": [
    "print(data)\n",
    "\n",
    "newY = []\n",
    "total = 0\n",
    "\n",
    "# extracting the *Patients* nodes and their *indexes* for the learning process.\n",
    "for i,v in enumerate(Nodes):\n",
    "    if v[0]=='C':\n",
    "        newY.append([i,data.y[i]])\n",
    "        total+=1"
   ]
  },
  {
   "cell_type": "code",
   "execution_count": 9,
   "metadata": {},
   "outputs": [
    {
     "name": "stdout",
     "output_type": "stream",
     "text": [
      "(2821,)\n",
      "(2821,)\n",
      "(2821,)\n",
      "Train =  0.6993987975951904\n",
      "Val =  0.10020040080160321\n",
      "Test =  0.20040080160320642\n"
     ]
    }
   ],
   "source": [
    "y_train, y_left = train_test_split(newY    , train_size=0.7, random_state=42)\n",
    "y_val,   y_test = train_test_split(y_left  , test_size=2/3, random_state=42)\n",
    "\n",
    "# Create masks for train, validation, and test sets\n",
    "train_mask = np.zeros(len(data.y), dtype=bool)\n",
    "val_mask = np.zeros(len(data.y), dtype=bool)\n",
    "test_mask = np.zeros(len(data.y), dtype=bool)\n",
    "\n",
    "for i,v in y_train:\n",
    "    train_mask[i] = True\n",
    "\n",
    "for i,v in y_val:\n",
    "    val_mask[i] = True\n",
    "\n",
    "for i, v in y_test:\n",
    "    test_mask[i] = True\n",
    "\n",
    "print(train_mask.shape)\n",
    "print(val_mask.shape)\n",
    "print(test_mask.shape)\n",
    "\n",
    "print('Train = ', sum([1 if v else 0 for v in train_mask])/total)\n",
    "print('Val = ', sum([1 if v else 0 for v in val_mask])/total)\n",
    "print('Test = ', sum([1 if v else 0 for v in test_mask])/total)"
   ]
  },
  {
   "cell_type": "code",
   "execution_count": 10,
   "metadata": {},
   "outputs": [],
   "source": [
    "data.train_mask = train_mask\n",
    "data.test_mask  = test_mask\n",
    "data.val_mask   = val_mask"
   ]
  },
  {
   "cell_type": "code",
   "execution_count": 11,
   "metadata": {},
   "outputs": [
    {
     "data": {
      "text/plain": [
       "tensor([1., 1., 1., 1., 1., 1., 0., 0., 0., 0., 0., 0., 0., 0., 0., 0., 0., 0.,\n",
       "        0., 0., 0., 0., 0., 0., 0., 0., 0., 0., 0., 0.], dtype=torch.float64)"
      ]
     },
     "execution_count": 11,
     "metadata": {},
     "output_type": "execute_result"
    }
   ],
   "source": [
    "data.y[0]"
   ]
  },
  {
   "cell_type": "code",
   "execution_count": 12,
   "metadata": {},
   "outputs": [
    {
     "data": {
      "image/png": "[encoded data removed]",
      "text/plain": [
       "<Figure size 800x600 with 1 Axes>"
      ]
     },
     "metadata": {},
     "output_type": "display_data"
    }
   ],
   "source": [
    "import GNN_multilabel as GNNM\n",
    "import torch\n",
    "import torch.nn.functional as F\n",
    "\n",
    "data.x = data.x.float()\n",
    "# data.y = data.y\n",
    "num_classes = selected_length\n",
    "\n",
    "# Check if a GPU is available, otherwise use CPU\n",
    "device = torch.device('cuda' if torch.cuda.is_available() else 'cpu')\n",
    "\n",
    "data = data.to(device)\n",
    "gcn = GNNM.SAGE_MLC(data.num_node_features, num_classes).to(device)\n",
    "\n",
    "optimizer_gcn = torch.optim.Adam(gcn.parameters(), lr=0.01, weight_decay=5e-4)\n",
    "# criterion = torch.nn.CrossEntropyLoss()\n",
    "# criterion = F.binary_cross_entropy_with_logits\n",
    "criterion = torch.nn.BCEWithLogitsLoss()\n",
    "gcn, df = GNNM.train_node_classifier(gcn, data, optimizer_gcn, criterion, n_epochs=3)\n",
    "\n",
    "GNNM.plt_performance(df)"
   ]
  },
  {
   "cell_type": "code",
   "execution_count": 13,
   "metadata": {},
   "outputs": [
    {
     "name": "stdout",
     "output_type": "stream",
     "text": [
      "              precision    recall  f1-score   support\n",
      "\n",
      "           0       0.35      1.00      0.52        70\n",
      "           1       1.00      1.00      1.00       200\n",
      "           2       0.00      0.00      0.00        41\n",
      "           3       0.00      0.00      0.00        29\n",
      "           4       0.00      0.00      0.00        59\n",
      "           5       0.00      0.00      0.00        81\n",
      "           6       0.19      1.00      0.32        38\n",
      "           7       0.00      0.00      0.00        32\n",
      "           8       0.00      0.00      0.00        70\n",
      "           9       0.17      1.00      0.30        35\n",
      "          10       0.00      0.00      0.00        30\n",
      "          11       0.00      0.00      0.00        78\n",
      "          12       0.00      0.00      0.00        19\n",
      "          13       0.22      1.00      0.36        44\n",
      "          14       0.00      0.00      0.00        28\n",
      "          15       0.00      0.00      0.00        18\n",
      "          16       0.08      0.76      0.14        17\n",
      "          17       0.00      0.00      0.00        33\n",
      "          18       0.00      0.00      0.00        38\n",
      "          19       0.18      1.00      0.31        36\n",
      "          20       0.00      0.00      0.00        31\n",
      "          21       0.00      0.00      0.00        14\n",
      "          22       0.00      0.00      0.00        46\n",
      "          23       0.00      0.00      0.00        21\n",
      "          24       0.15      1.00      0.26        30\n",
      "          25       0.11      1.00      0.20        22\n",
      "          26       0.00      0.00      0.00        17\n",
      "          27       0.00      0.00      0.00        20\n",
      "          28       0.00      0.00      0.00        16\n",
      "          29       0.05      1.00      0.10        10\n",
      "\n",
      "   micro avg       0.25      0.41      0.31      1223\n",
      "   macro avg       0.08      0.33      0.12      1223\n",
      "weighted avg       0.21      0.41      0.25      1223\n",
      " samples avg       0.25      0.46      0.31      1223\n",
      "\n",
      "Averaged Metrics:\n",
      "Averaged F1 score = [0.51851852 1.         0.         0.         0.         0.\n",
      " 0.31932773 0.         0.         0.29787234 0.         0.\n",
      " 0.         0.36065574 0.         0.         0.14444444 0.\n",
      " 0.         0.30508475 0.         0.         0.         0.\n",
      " 0.26086957 0.1981982  0.         0.         0.         0.0952381 ]\n",
      "Averaged Precision score = [0.35      1.        0.        0.        0.        0.        0.19\n",
      " 0.        0.        0.175     0.        0.        0.        0.22\n",
      " 0.        0.        0.0797546 0.        0.        0.18      0.\n",
      " 0.        0.        0.        0.15      0.11      0.        0.\n",
      " 0.        0.05     ]\n",
      "Averaged AUC Precision score = [0.35       1.         0.205      0.145      0.295      0.405\n",
      " 0.19       0.16       0.35       0.175      0.15       0.39\n",
      " 0.095      0.22       0.14       0.09       0.08098881 0.165\n",
      " 0.19       0.18       0.155      0.07       0.23       0.105\n",
      " 0.15       0.11       0.085      0.1        0.08       0.05      ]\n",
      "\n",
      "Macro-Averaged Metrics:\n",
      "Macro-Averaged F1 score = 0.11667364588674155\n",
      "Macro-Averaged Precision score = 0.08349182004089978\n",
      "Macro-Averaged AUC Precision score = 0.20369962709009984\n",
      "\n",
      "Micro-Averaged Metrics:\n",
      "Micro-Averaged F1 score = 0.3126177024482109\n",
      "Micro-Averaged Precision score = 0.2536933265410087\n",
      "Micro-Averaged AUC Precision score = 0.2241360942633598\n",
      "\n"
     ]
    },
    {
     "name": "stderr",
     "output_type": "stream",
     "text": [
      "c:\\Users\\almusawiaf\\Anaconda3\\envs\\venvGNN\\lib\\site-packages\\sklearn\\metrics\\_classification.py:1344: UndefinedMetricWarning: Precision and F-score are ill-defined and being set to 0.0 in labels with no predicted samples. Use `zero_division` parameter to control this behavior.\n",
      "  _warn_prf(average, modifier, msg_start, len(result))\n",
      "c:\\Users\\almusawiaf\\Anaconda3\\envs\\venvGNN\\lib\\site-packages\\sklearn\\metrics\\_classification.py:1344: UndefinedMetricWarning: Precision is ill-defined and being set to 0.0 in labels with no predicted samples. Use `zero_division` parameter to control this behavior.\n",
      "  _warn_prf(average, modifier, msg_start, len(result))\n",
      "c:\\Users\\almusawiaf\\Anaconda3\\envs\\venvGNN\\lib\\site-packages\\sklearn\\metrics\\_classification.py:1344: UndefinedMetricWarning: Precision is ill-defined and being set to 0.0 in labels with no predicted samples. Use `zero_division` parameter to control this behavior.\n",
      "  _warn_prf(average, modifier, msg_start, len(result))\n"
     ]
    }
   ],
   "source": [
    "# ----------------------------------------------------------------------------\n",
    "pred = gcn(data) #.argmax(dim=1)\n",
    "pred    = pred  [data.test_mask].detach().cpu().numpy()\n",
    "correct = data.y[data.test_mask].detach().cpu().numpy()\n",
    "\n",
    "# print(pred.shape)\n",
    "# print(correct.shape)\n",
    "\n",
    "correct_binary = (correct > 0).astype(int)\n",
    "pred_binary = (pred > 0).astype(int)\n",
    "\n",
    "# GNNM.create_confusion_matrix(pred, correct)\n",
    "GNNM.create_multilabel_confusion_matrix(pred_binary, correct_binary)\n",
    "\n",
    "# test_acc, _ = GNNM.eval_node_classifier(gcn, data, data.test_mask)\n",
    "# print(f'Test Acc: {test_acc:.3f}\\n')"
   ]
  },
  {
   "cell_type": "code",
   "execution_count": 14,
   "metadata": {},
   "outputs": [
    {
     "name": "stdout",
     "output_type": "stream",
     "text": [
      "F1- score :  0.5271955224729458\n"
     ]
    }
   ],
   "source": [
    "from sklearn.metrics import f1_score\n",
    "print('F1- score : ', sum([f1_score(correct_binary[i], pred_binary[i], average='macro', zero_division=0) for i in range(len(correct_binary))])/len(correct_binary))"
   ]
  }
 ],
 "metadata": {
  "kernelspec": {
   "display_name": "venvGNN",
   "language": "python",
   "name": "python3"
  },
  "language_info": {
   "codemirror_mode": {
    "name": "ipython",
    "version": 3
   },
   "file_extension": ".py",
   "mimetype": "text/x-python",
   "name": "python",
   "nbconvert_exporter": "python",
   "pygments_lexer": "ipython3",
   "version": "3.9.16"
  }
 },
 "nbformat": 4,
 "nbformat_minor": 2
}
