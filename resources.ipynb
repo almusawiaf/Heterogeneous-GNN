{
 "cells": [
  {
   "cell_type": "markdown",
   "metadata": {},
   "source": [
    "# Resources"
   ]
  },
  {
   "cell_type": "markdown",
   "metadata": {},
   "source": [
    "## Dipole\n",
    "- Dipole uses bidirectional recurrent neural networks and attention mechanism to make predictions.\n",
    "- In this experiment, we use patient conditions at different times in one visit to make the visit-level prediction, and use information of different visits to make patient-level\n",
    "prediction.\n",
    "- Paper: https://dl.acm.org/doi/pdf/10.1145/3097983.3098088\n"
   ]
  },
  {
   "cell_type": "markdown",
   "metadata": {},
   "source": [
    "## KAME\n",
    "- KAME learns to predict patients’ health situation. \n",
    "- It incorporates medical knowledge graph, and utilizes attention mechanism to make accurate predictions. \n",
    "- We leverage the MeSH ontology as the knowledge graph to run this model. It is fair to compare KAME and our proposed HSGNN becuase they all make use of the\n",
    "same ontology although in different settings.\n",
    "- Paper: https://dl.acm.org/doi/pdf/10.1145/3269206.3271701"
   ]
  },
  {
   "cell_type": "markdown",
   "metadata": {},
   "source": [
    "## HeteroMed\n",
    "- HeteroMed is the first approach using HIN to process EHR. \n",
    "- It exploits meta-paths and employs a joint embedding framework to predict diagnosis for patients. \n",
    "- We use the same graph structure on this model as HSGNN.\n",
    "- Paper: https://arxiv.org/pdf/1804.08052.pdf"
   ]
  },
  {
   "cell_type": "markdown",
   "metadata": {},
   "source": [
    "## MAGNN\n",
    "- MAGNN proposes intra-metapath aggregators and inter-metapath aggregators to make inductive predictions on heterogeneous graphs. \n",
    "- We use the same graph structure and meta-paths on this model as HSGNN.\n",
    "- Paper: https://dl.acm.org/doi/pdf/10.1145/3366423.3380297"
   ]
  },
  {
   "cell_type": "markdown",
   "metadata": {},
   "source": [
    "## HetGNN\n",
    "- HetGNN is a heterogeneous graph neural network that introduces a random walk to sample a fixed size of heterogeneous neighbors and leverages a neural network architecture with two modules to aggregate feature information of those sampled neighboring nodes.\n",
    "- Paper: https://dl.acm.org/doi/pdf/10.1145/3292500.3330961"
   ]
  },
  {
   "cell_type": "markdown",
   "metadata": {},
   "source": [
    "## HAN\n",
    "- HAN is a heterogeneous graph neural network based on hierarchical attention, including node-level and semantic-level attentions to learn the importance between a node and its metapath based neighbors and the importance of different meta-paths.\n",
    "- Paper: https://arxiv.org/pdf/1903.07293.pdf"
   ]
  },
  {
   "cell_type": "markdown",
   "metadata": {},
   "source": [
    "## GCT\n",
    "- GCT uses graph convolutional transformers to jointly learn the hidden structure of EHR while performing prediction tasks on EHR data. \n",
    "- GCT uses data statistics to guide the structure learning process. \n",
    "- In the experiments, we use the data schema mentioned above to generate its pre-training weights.\n",
    "- Paper: https://arxiv.org/pdf/1903.07293.pdf\n"
   ]
  },
  {
   "cell_type": "code",
   "execution_count": 1,
   "metadata": {},
   "outputs": [],
   "source": [
    "# coding...\n"
   ]
  }
 ],
 "metadata": {
  "kernelspec": {
   "display_name": "venvGNN",
   "language": "python",
   "name": "python3"
  },
  "language_info": {
   "codemirror_mode": {
    "name": "ipython",
    "version": 3
   },
   "file_extension": ".py",
   "mimetype": "text/x-python",
   "name": "python",
   "nbconvert_exporter": "python",
   "pygments_lexer": "ipython3",
   "version": "3.9.16"
  }
 },
 "nbformat": 4,
 "nbformat_minor": 2
}
