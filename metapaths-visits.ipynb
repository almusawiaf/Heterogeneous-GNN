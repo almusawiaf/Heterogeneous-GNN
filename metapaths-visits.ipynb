{
 "cells": [
  {
   "attachments": {},
   "cell_type": "markdown",
   "metadata": {},
   "source": [
    "# Metapath-visits HGCN\n"
   ]
  },
  {
   "cell_type": "code",
   "execution_count": 1,
   "metadata": {},
   "outputs": [],
   "source": [
    "import numpy as np\n",
    "from torch_geometric.utils.convert import from_networkx\n",
    "from sklearn.model_selection import train_test_split\n",
    "import networkx as nx \n",
    "import pickle\n",
    "import matplotlib.pyplot as plt\n",
    "\n",
    "\n",
    "filename = \"Data/symmetricPath\""
   ]
  },
  {
   "cell_type": "code",
   "execution_count": 2,
   "metadata": {},
   "outputs": [
    {
     "data": {
      "text/plain": [
       "2821"
      ]
     },
     "execution_count": 2,
     "metadata": {},
     "output_type": "execute_result"
    }
   ],
   "source": [
    "# Reading the metapath (pathsim-based) overall similarity matrix\n",
    "with open(f'{filename}/data.pickle', 'rb') as file:\n",
    "    data = pickle.load(file)\n",
    "\n",
    "\n",
    "# Reading the nodes of the similarity matrix\n",
    "with open(f'{filename}/patients.pickle', 'rb') as file:\n",
    "    Patients = pickle.load(file)\n",
    "\n",
    "with open(f'{filename}/visits.pickle', 'rb') as file:\n",
    "    visits = pickle.load(file)\n",
    "\n",
    "with open(f'{filename}/medication.pickle', 'rb') as file:\n",
    "    Medications = pickle.load(file)\n",
    "\n",
    "with open(f'{filename}/diagnosis.pickle', 'rb') as file:\n",
    "    Diagnosis = pickle.load(file)\n",
    "\n",
    "with open(f'{filename}/procedures.pickle', 'rb') as file:\n",
    "    Procedures = pickle.load(file)\n",
    "\n",
    "with open(f'{filename}/visitsLOS.pickle', 'rb') as file:\n",
    "    visitsLOS = pickle.load(file)\n",
    "\n",
    "# Reading Length of Stay on the visits.\n",
    "newVisitsLOS = {v: visitsLOS[v] for v in visits}"
   ]
  },
  {
   "cell_type": "code",
   "execution_count": 3,
   "metadata": {},
   "outputs": [
    {
     "data": {
      "image/png": "[encoded data removed]",
      "text/plain": [
       "<Figure size 640x480 with 1 Axes>"
      ]
     },
     "metadata": {},
     "output_type": "display_data"
    }
   ],
   "source": [
    "someK = 99999\n",
    "\n",
    "# Setting the graph based on the similarity matrix\n",
    "G = nx.Graph()\n",
    "\n",
    "Nodes = Patients + visits + Medications + Diagnosis  + Procedures\n",
    "G.add_nodes_from(Nodes)\n",
    "\n",
    "# assign the label using LOS or 99999\n",
    "for node in G.nodes:\n",
    "    if node[0]=='V':\n",
    "        G.nodes[node]['LOS'] = newVisitsLOS[node]\n",
    "    else:\n",
    "        G.nodes[node]['LOS'] = someK\n",
    "\n",
    "# assign the weight of the edges into the graph\n",
    "for i, v in enumerate(Nodes):\n",
    "    for j, u in enumerate(Nodes):\n",
    "        if data[i][j]>0:\n",
    "            G.add_edge(v, u, weight=data[i][j])\n",
    "\n",
    "\n",
    "# Plotting the frequency of LOS...\n",
    "degrees = [G.nodes[node]['LOS'] for node in G.nodes if G.nodes[node]['LOS']!=someK]\n",
    "# Create a histogram\n",
    "plt.hist(degrees, bins=100, edgecolor='k')  # Adjust the number of bins as needed\n",
    "plt.xlabel('LOS in Days')\n",
    "plt.ylabel('Frequency')\n",
    "plt.title('Degree Distribution')\n",
    "\n",
    "# Show the plot\n",
    "plt.show()"
   ]
  },
  {
   "cell_type": "code",
   "execution_count": 4,
   "metadata": {},
   "outputs": [],
   "source": [
    "# X = np.random.randn(len(list(G.nodes())), 128)\n",
    "X = np.eye(len(list(G.nodes())))\n",
    "\n",
    "for i, node in enumerate(list(G.nodes())):\n",
    "    G.nodes[node]['x'] = X[i]\n",
    "\n",
    "\n",
    "# splitting the LOS into binary labels. \n",
    "th = 10\n",
    "for i, node in enumerate(list(G.nodes())):\n",
    "    if G.nodes[node]['LOS']!=someK:\n",
    "\n",
    "        if G.nodes[node]['LOS']<=th:\n",
    "            G.nodes[node]['LOS']=0\n",
    "\n",
    "        if G.nodes[node]['LOS']>th:\n",
    "            G.nodes[node]['LOS']=1\n"
   ]
  },
  {
   "cell_type": "code",
   "execution_count": 5,
   "metadata": {},
   "outputs": [
    {
     "name": "stderr",
     "output_type": "stream",
     "text": [
      "c:\\Anaconda3\\envs\\GNNenv\\Lib\\site-packages\\torch_geometric\\utils\\convert.py:249: UserWarning: Creating a tensor from a list of numpy.ndarrays is extremely slow. Please consider converting the list to a single numpy.ndarray with numpy.array() before converting to a tensor. (Triggered internally at ..\\torch\\csrc\\utils\\tensor_new.cpp:248.)\n",
      "  data[key] = torch.tensor(value)\n"
     ]
    }
   ],
   "source": [
    "# Creating the data structure\n",
    "data = from_networkx(G)"
   ]
  },
  {
   "cell_type": "code",
   "execution_count": 6,
   "metadata": {},
   "outputs": [
    {
     "data": {
      "text/plain": [
       "tensor([99999, 99999, 99999,  ..., 99999, 99999, 99999])"
      ]
     },
     "execution_count": 6,
     "metadata": {},
     "output_type": "execute_result"
    }
   ],
   "source": [
    "data['y'] = data.pop('LOS')\n",
    "data.y"
   ]
  },
  {
   "cell_type": "code",
   "execution_count": 7,
   "metadata": {},
   "outputs": [
    {
     "data": {
      "text/plain": [
       "Data(x=[2821, 2821], edge_index=[2, 2648339], weight=[2648339], y=[2821])"
      ]
     },
     "execution_count": 7,
     "metadata": {},
     "output_type": "execute_result"
    }
   ],
   "source": [
    "data"
   ]
  },
  {
   "cell_type": "markdown",
   "metadata": {},
   "source": [
    "## Creating new masks out of patient nodes only"
   ]
  },
  {
   "cell_type": "code",
   "execution_count": 8,
   "metadata": {},
   "outputs": [
    {
     "name": "stdout",
     "output_type": "stream",
     "text": [
      "1171\n",
      "(2821,)\n",
      "(2821,)\n",
      "(2821,)\n",
      "Train =  0.6994022203245089\n",
      "Val =  0.09991460290350128\n",
      "Test =  0.20068317677198974\n"
     ]
    }
   ],
   "source": [
    "newY = []\n",
    "total = 0\n",
    "\n",
    "# extracting the visits nodes and their indexes for the learning process.\n",
    "for i,v in enumerate(list(data.y)):\n",
    "    if v!=someK:\n",
    "        newY.append([i,v])\n",
    "        total+=1\n",
    "\n",
    "y_train, y_left = train_test_split(newY    , train_size=0.7, random_state=42)\n",
    "y_val,   y_test = train_test_split(y_left  , test_size=2/3, random_state=42)\n",
    "\n",
    "# Create masks for train, validation, and test sets\n",
    "train_mask = np.zeros(len(data.y), dtype=bool)\n",
    "val_mask = np.zeros(len(data.y), dtype=bool)\n",
    "test_mask = np.zeros(len(data.y), dtype=bool)\n",
    "\n",
    "for i,v in y_train:\n",
    "    train_mask[i] = True\n",
    "\n",
    "for i,v in y_val:\n",
    "    val_mask[i] = True\n",
    "\n",
    "for i, v in y_test:\n",
    "    test_mask[i] = True\n",
    "\n",
    "print(train_mask.shape)\n",
    "print(val_mask.shape)\n",
    "print(test_mask.shape)\n",
    "\n",
    "print('Train = ', sum([1 if v else 0 for v in train_mask])/total)\n",
    "print('Val = ', sum([1 if v else 0 for v in val_mask])/total)\n",
    "print('Test = ', sum([1 if v else 0 for v in test_mask])/total)"
   ]
  },
  {
   "cell_type": "code",
   "execution_count": 9,
   "metadata": {},
   "outputs": [],
   "source": [
    "data.train_mask = train_mask\n",
    "data.test_mask  = test_mask\n",
    "data.val_mask   = val_mask"
   ]
  },
  {
   "cell_type": "code",
   "execution_count": 10,
   "metadata": {},
   "outputs": [
    {
     "name": "stdout",
     "output_type": "stream",
     "text": [
      "Epoch: 010, Train Loss: 0.619, Val Acc: 0.778\n"
     ]
    },
    {
     "data": {
      "image/png": "[encoded data removed]",
      "text/plain": [
       "<Figure size 800x600 with 1 Axes>"
      ]
     },
     "metadata": {},
     "output_type": "display_data"
    },
    {
     "name": "stdout",
     "output_type": "stream",
     "text": [
      "[[165   0]\n",
      " [ 70   0]]\n",
      "F1 score =  0.4125\n",
      "Precision score =  0.35106382978723405\n",
      "AUC Precision score =  0.2978723404255319\n",
      "Test Acc: 0.702\n",
      "\n"
     ]
    },
    {
     "name": "stderr",
     "output_type": "stream",
     "text": [
      "c:\\Anaconda3\\envs\\GNNenv\\Lib\\site-packages\\sklearn\\metrics\\_classification.py:1469: UndefinedMetricWarning: Precision is ill-defined and being set to 0.0 in labels with no predicted samples. Use `zero_division` parameter to control this behavior.\n",
      "  _warn_prf(average, modifier, msg_start, len(result))\n"
     ]
    }
   ],
   "source": [
    "import GNNModel as GNNM\n",
    "import torch\n",
    "\n",
    "data.x = data.x.float()\n",
    "data.y = data.y.long()\n",
    "num_classes = 2\n",
    "\n",
    "# Check if a GPU is available, otherwise use CPU\n",
    "device = torch.device('cuda' if torch.cuda.is_available() else 'cpu')\n",
    "\n",
    "data = data.to(device)\n",
    "gcn = GNNM.GCN3(data.num_node_features, num_classes).to(device)\n",
    "\n",
    "optimizer_gcn = torch.optim.Adam(gcn.parameters(), lr=0.01, weight_decay=5e-4)\n",
    "criterion = torch.nn.CrossEntropyLoss()\n",
    "gcn, df = GNNM.train_node_classifier(gcn, data, optimizer_gcn, criterion, n_epochs=10)\n",
    "\n",
    "GNNM.plt_performance(df)\n",
    "# ----------------------------------------------------------------------------\n",
    "pred = gcn(data).argmax(dim=1)\n",
    "\n",
    "pred    = pred  [data.test_mask].detach().cpu().numpy()\n",
    "correct = data.y[data.test_mask].detach().cpu().numpy()\n",
    "\n",
    "GNNM.create_confusion_matrix(pred, correct)\n",
    "\n",
    "\n",
    "test_acc, _ = GNNM.eval_node_classifier(gcn, data, data.test_mask)\n",
    "print(f'Test Acc: {test_acc:.3f}\\n')"
   ]
  },
  {
   "cell_type": "code",
   "execution_count": 11,
   "metadata": {},
   "outputs": [],
   "source": [
    "# import GNNModel as GNNM\n",
    "# import torch\n",
    "\n",
    "# data.x = data.x.float()\n",
    "# data.y = data.y.float()\n",
    "\n",
    "# # Check if a GPU is available, otherwise use CPU\n",
    "# device = torch.device('cuda' if torch.cuda.is_available() else 'cpu')\n",
    "\n",
    "# data = data.to(device)\n",
    "# gcn = GNNM.GCNRegression(data.num_node_features).to(device)\n",
    "\n",
    "# optimizer_gcn = torch.optim.Adam(gcn.parameters(), lr=0.01, weight_decay=5e-4)\n",
    "# # criterion = torch.nn.CrossEntropyLoss()\n",
    "# criterion = nn.MSELoss()\n",
    "# gcn, df = GNNM.train_node_classifier(gcn, data, optimizer_gcn, criterion, n_epochs=25)\n",
    "# # ----------------------------------------------------------------------------\n",
    "\n",
    "# pred = gcn(data).argmax(dim=1)\n",
    "\n",
    "# pred = pred[data.test_mask] .detach().cpu().numpy()\n",
    "# correct = data.y[data.test_mask].detach().cpu().numpy()\n",
    "\n",
    "# [(pred[i], correct[i]) for i in range(len(correct))]\n",
    "\n",
    "# import matplotlib.pyplot as plt\n",
    "\n",
    "# # Assuming you have already defined 'pred' and 'correct'\n",
    "\n",
    "# # Create a scatter plot\n",
    "# plt.figure(figsize=(8, 6))\n",
    "# plt.scatter(correct, pred, c='blue', alpha=0.6, edgecolors='k')\n",
    "\n",
    "# # Add labels and title\n",
    "# plt.xlabel('Actual Values (correct)')\n",
    "# plt.ylabel('Predicted Values (pred)')\n",
    "# plt.title('Predicted vs. Actual Values')\n",
    "\n",
    "# # Add a diagonal line for reference (perfect prediction)\n",
    "# plt.plot([min(correct), max(correct)], [min(correct), max(correct)], linestyle='--', color='red', linewidth=2)\n",
    "# plt.legend()\n",
    "# # Show the plot\n",
    "# plt.show()\n",
    "\n",
    "\n",
    "# from sklearn.metrics import mean_absolute_error, mean_squared_error, r2_score\n",
    "# import numpy as np\n",
    "\n",
    "# # Actual target values (ground truth)\n",
    "# actual_values = correct\n",
    "\n",
    "# # Predicted values from your regression model\n",
    "# predicted_values = pred\n",
    "\n",
    "# # Calculate and print Mean Absolute Error (MAE)\n",
    "# mae = mean_absolute_error(actual_values, predicted_values)\n",
    "# print(f\"Mean Absolute Error (MAE): {mae:.2f}\")\n",
    "\n",
    "# # Calculate and print Mean Squared Error (MSE)\n",
    "# mse = mean_squared_error(actual_values, predicted_values)\n",
    "# print(f\"Mean Squared Error (MSE): {mse:.2f}\")\n",
    "\n",
    "# # Calculate and print Root Mean Squared Error (RMSE)\n",
    "# rmse = np.sqrt(mse)\n",
    "# print(f\"Root Mean Squared Error (RMSE): {rmse:.2f}\")\n",
    "\n",
    "# # Calculate and print R-squared (R²)\n",
    "# r_squared = r2_score(actual_values, predicted_values)\n",
    "# print(f\"R-squared (R²): {r_squared:.2f}\")\n",
    "\n",
    "\n",
    "# # GNNM.create_confusion_matrix(pred, correct)\n",
    "\n",
    "\n",
    "# # test_acc, _ = GNNM.eval_node_classifier(gcn, data, data.test_mask)\n",
    "# # print(f'Test Acc: {test_acc:.3f}\\n')"
   ]
  }
 ],
 "metadata": {
  "kernelspec": {
   "display_name": "base",
   "language": "python",
   "name": "python3"
  },
  "language_info": {
   "codemirror_mode": {
    "name": "ipython",
    "version": 3
   },
   "file_extension": ".py",
   "mimetype": "text/x-python",
   "name": "python",
   "nbconvert_exporter": "python",
   "pygments_lexer": "ipython3",
   "version": "3.11.4"
  },
  "orig_nbformat": 4
 },
 "nbformat": 4,
 "nbformat_minor": 2
}
