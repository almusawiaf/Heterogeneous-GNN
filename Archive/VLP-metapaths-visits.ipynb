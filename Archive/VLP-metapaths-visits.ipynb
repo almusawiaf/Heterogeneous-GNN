{
 "cells": [
  {
   "attachments": {},
   "cell_type": "markdown",
   "metadata": {},
   "source": [
    "# Visit-level Diagnosis prediction using Metapath-based HGCN"
   ]
  },
  {
   "cell_type": "code",
   "execution_count": 1,
   "metadata": {},
   "outputs": [],
   "source": [
    "import numpy as np\n",
    "from torch_geometric.utils.convert import from_networkx\n",
    "from sklearn.model_selection import train_test_split\n",
    "import networkx as nx \n",
    "import matplotlib.pyplot as plt\n",
    "\n",
    "import extractingHG as exHG"
   ]
  },
  {
   "cell_type": "code",
   "execution_count": 2,
   "metadata": {},
   "outputs": [],
   "source": [
    "# Extracting the information...\n",
    "\n",
    "# exHG.extracting_patient_visit_labels()"
   ]
  },
  {
   "cell_type": "code",
   "execution_count": 3,
   "metadata": {},
   "outputs": [],
   "source": [
    "# Reading everything...\n",
    "Patients    = exHG.reading_pickle('Data/symmetricPath/patients.pickle')\n",
    "Visits      = exHG.reading_pickle('Data/symmetricPath/visits.pickle')\n",
    "Medications = exHG.reading_pickle('Data/symmetricPath/medication.pickle')\n",
    "Diagnosis   = exHG.reading_pickle('Data/symmetricPath/diagnosis.pickle')\n",
    "Procedures  = exHG.reading_pickle('Data/symmetricPath/procedures.pickle')\n",
    "\n",
    "# Reading the metapath (pathsim-based) overall similarity matrix\n",
    "data        = exHG.reading_pickle('Data/symmetricPath/data.pickle')\n",
    "\n",
    "# Reading the labels\n",
    "Visits_label   = exHG.reading_pickle('Data/labels/visit_labels.pickle')\n"
   ]
  },
  {
   "cell_type": "markdown",
   "metadata": {},
   "source": [
    "## Selecting the top 20-30 Diagnosis"
   ]
  },
  {
   "cell_type": "code",
   "execution_count": 14,
   "metadata": {},
   "outputs": [
    {
     "name": "stdout",
     "output_type": "stream",
     "text": [
      "Top 30 Items: {'D_162.0': 1171, 'D_518.0': 492, 'D_401.0': 480, 'D_198.0': 455, 'D_427.0': 421, 'D_272.0': 342, 'D_276.0': 330, 'D_285.0': 276, 'D_486.0': 270, 'D_V15': 270, 'D_496.0': 270, 'D_584.0': 225, 'D_197.0': 220, 'D_250.0': 213, 'D_414.0': 208, 'D_428.0': 198, 'D_196.0': 191, 'D_530.0': 191, 'D_V10': 186, 'D_V45': 179, 'D_511.0': 177, 'D_458.0': 146, 'D_E87': 138, 'D_E93': 133, 'D_V58': 129, 'D_305.0': 129, 'D_V12': 126, 'D_780.0': 120, 'D_785.0': 117, 'D_244.0': 114}\n"
     ]
    }
   ],
   "source": [
    "selected_length = 30\n",
    "Diagnosis_List = []\n",
    "for visit in Visits:\n",
    "    Diagnosis_List.append(np.array(Visits_label[visit]))\n",
    "\n",
    "total_diagnosis = sum([d for d in Diagnosis_List])\n",
    "Diagnosis_freq = {Diagnosis[i]: total_diagnosis[i] for i in range(len(total_diagnosis))}\n",
    "sorted_Diagnosis_freq = sorted(Diagnosis_freq.items(), key=lambda x: x[1], reverse=True)\n",
    "\n",
    "top_diagnosis = sorted_Diagnosis_freq[:selected_length]\n",
    "top_dict = dict(top_diagnosis)\n",
    "print(f'Top {selected_length} Items:', top_dict)\n",
    "\n",
    "selected_cols = [i for i, v in enumerate(Diagnosis) if v in top_dict]\n",
    "new_label = [arr[selected_cols] for arr in Diagnosis_List]\n",
    "Visits_label2 = {visit: new_label[i] for i, visit in enumerate(Visits)}\n"
   ]
  },
  {
   "cell_type": "markdown",
   "metadata": {},
   "source": [
    "# Visit-level Prediction"
   ]
  },
  {
   "cell_type": "code",
   "execution_count": 15,
   "metadata": {},
   "outputs": [],
   "source": [
    "import torch\n",
    "\n",
    "# Setting the graph based on the similarity matrix\n",
    "G = nx.Graph()\n",
    "\n",
    "Nodes = Patients + Visits + Medications + Diagnosis  + Procedures\n",
    "G.add_nodes_from(Nodes)\n",
    "\n",
    "# assign the Patient label as Y...\n",
    "for node in G.nodes:\n",
    "    if node[0]=='V':\n",
    "        G.nodes[node]['y'] = torch.tensor(Visits_label2[node])\n",
    "    else:\n",
    "        G.nodes[node]['y'] = torch.tensor(np.zeros((selected_length)))\n",
    "\n",
    "# assign the weight of the edges into the graph\n",
    "for i, v in enumerate(Nodes):\n",
    "    if v[0]!= 'D':\n",
    "        for j, u in enumerate(Nodes):\n",
    "            if data[i][j]>0 and u[0]!='D':\n",
    "                G.add_edge(v, u, weight=data[i][j])\n",
    "\n",
    "# Nodes features\n",
    "# X = np.random.randn(len(list(G.nodes())), 128)\n",
    "X = np.eye(len(list(G.nodes())))\n",
    "\n",
    "for i, node in enumerate(list(G.nodes())):\n",
    "    G.nodes[node]['x'] = X[i]\n"
   ]
  },
  {
   "cell_type": "code",
   "execution_count": 16,
   "metadata": {},
   "outputs": [
    {
     "name": "stderr",
     "output_type": "stream",
     "text": [
      "c:\\Users\\almusawiaf\\Anaconda3\\envs\\venvGNN\\lib\\site-packages\\torch_geometric\\utils\\convert.py:249: UserWarning: Creating a tensor from a list of numpy.ndarrays is extremely slow. Please consider converting the list to a single numpy.ndarray with numpy.array() before converting to a tensor. (Triggered internally at C:\\actions-runner\\_work\\pytorch\\pytorch\\builder\\windows\\pytorch\\torch\\csrc\\utils\\tensor_new.cpp:248.)\n",
      "  data[key] = torch.tensor(value)\n"
     ]
    }
   ],
   "source": [
    "# Creating the data structure\n",
    "data = from_networkx(G)"
   ]
  },
  {
   "cell_type": "code",
   "execution_count": 17,
   "metadata": {},
   "outputs": [
    {
     "name": "stdout",
     "output_type": "stream",
     "text": [
      "Data(x=[2821, 2821], edge_index=[2, 2418040], y=[2821, 30], weight=[2418040])\n"
     ]
    }
   ],
   "source": [
    "print(data)\n",
    "\n",
    "newY = []\n",
    "total = 0\n",
    "\n",
    "# extracting the *Visits* nodes and their *indexes* for the learning process.\n",
    "for i,v in enumerate(Nodes):\n",
    "    if v[0]=='V':\n",
    "        newY.append([i,data.y[i]])\n",
    "        total+=1\n",
    "\n"
   ]
  },
  {
   "cell_type": "markdown",
   "metadata": {},
   "source": [
    "## Creating new masks out of patient nodes only"
   ]
  },
  {
   "cell_type": "code",
   "execution_count": 18,
   "metadata": {},
   "outputs": [
    {
     "name": "stdout",
     "output_type": "stream",
     "text": [
      "(2821,)\n",
      "(2821,)\n",
      "(2821,)\n",
      "Train =  0.6994022203245089\n",
      "Val =  0.09991460290350128\n",
      "Test =  0.20068317677198974\n"
     ]
    }
   ],
   "source": [
    "y_train, y_left = train_test_split(newY    , train_size=0.7, random_state=42)\n",
    "y_val,   y_test = train_test_split(y_left  , test_size=2/3, random_state=42)\n",
    "\n",
    "# Create masks for train, validation, and test sets\n",
    "train_mask = np.zeros(len(data.y), dtype=bool)\n",
    "val_mask = np.zeros(len(data.y), dtype=bool)\n",
    "test_mask = np.zeros(len(data.y), dtype=bool)\n",
    "\n",
    "\n",
    "for i,v in y_train:\n",
    "    train_mask[i] = True\n",
    "\n",
    "for i,v in y_val:\n",
    "    val_mask[i] = True\n",
    "\n",
    "for i, v in y_test:\n",
    "    test_mask[i] = True\n",
    "\n",
    "print(train_mask.shape)\n",
    "print(val_mask.shape)\n",
    "print(test_mask.shape)\n",
    "\n",
    "print('Train = ', sum([1 if v else 0 for v in train_mask])/total)\n",
    "print('Val = ', sum([1 if v else 0 for v in val_mask])/total)\n",
    "print('Test = ', sum([1 if v else 0 for v in test_mask])/total)"
   ]
  },
  {
   "cell_type": "code",
   "execution_count": 19,
   "metadata": {},
   "outputs": [],
   "source": [
    "data.train_mask = train_mask\n",
    "data.test_mask  = test_mask\n",
    "data.val_mask   = val_mask"
   ]
  },
  {
   "cell_type": "code",
   "execution_count": 20,
   "metadata": {},
   "outputs": [
    {
     "data": {
      "text/plain": [
       "tensor([0., 0., 0., 0., 0., 0., 0., 0., 0., 0., 0., 0., 0., 0., 0., 0., 0., 0., 0., 0., 0., 0., 0., 0.,\n",
       "        0., 0., 0., 0., 0., 0.], dtype=torch.float64)"
      ]
     },
     "execution_count": 20,
     "metadata": {},
     "output_type": "execute_result"
    }
   ],
   "source": [
    "data.y[0]"
   ]
  },
  {
   "cell_type": "code",
   "execution_count": 21,
   "metadata": {},
   "outputs": [
    {
     "name": "stdout",
     "output_type": "stream",
     "text": [
      "Epoch: 010, Train Loss: 0.667, Val Acc: 0.000\n",
      "Epoch: 020, Train Loss: 0.571, Val Acc: 0.000\n",
      "Epoch: 030, Train Loss: 0.496, Val Acc: 0.000\n"
     ]
    },
    {
     "data": {
      "image/png": "[encoded data removed]",
      "text/plain": [
       "<Figure size 800x600 with 1 Axes>"
      ]
     },
     "metadata": {},
     "output_type": "display_data"
    }
   ],
   "source": [
    "import GNN_multilabel as GNNM\n",
    "import torch\n",
    "import torch.nn.functional as F\n",
    "\n",
    "data.x = data.x.float()\n",
    "# data.y = data.y\n",
    "num_classes = selected_length\n",
    "\n",
    "# Check if a GPU is available, otherwise use CPU\n",
    "device = torch.device('cuda' if torch.cuda.is_available() else 'cpu')\n",
    "\n",
    "data = data.to(device)\n",
    "gcn = GNNM.GCN_MLC(data.num_node_features, num_classes).to(device)\n",
    "\n",
    "optimizer_gcn = torch.optim.Adam(gcn.parameters(), lr=0.01, weight_decay=5e-4)\n",
    "# criterion = torch.nn.CrossEntropyLoss()\n",
    "# criterion = F.binary_cross_entropy_with_logits\n",
    "criterion = torch.nn.BCEWithLogitsLoss()\n",
    "gcn, df = GNNM.train_node_classifier(gcn, data, optimizer_gcn, criterion, n_epochs=30)\n",
    "\n",
    "GNNM.plt_performance(df)"
   ]
  },
  {
   "cell_type": "code",
   "execution_count": 22,
   "metadata": {},
   "outputs": [
    {
     "name": "stdout",
     "output_type": "stream",
     "text": [
      "              precision    recall  f1-score   support\n",
      "\n",
      "           0       0.00      0.00      0.00        97\n",
      "           1       1.00      1.00      1.00       235\n",
      "           2       0.00      0.00      0.00        76\n",
      "           3       0.00      0.00      0.00        39\n",
      "           4       0.00      0.00      0.00        26\n",
      "           5       0.00      0.00      0.00        76\n",
      "           6       0.00      0.00      0.00       101\n",
      "           7       0.00      0.00      0.00        57\n",
      "           8       0.00      0.00      0.00        51\n",
      "           9       0.00      0.00      0.00        91\n",
      "          10       0.00      0.00      0.00        40\n",
      "          11       0.00      0.00      0.00        35\n",
      "          12       0.00      0.00      0.00        98\n",
      "          13       0.00      0.00      0.00        31\n",
      "          14       0.00      0.00      0.00        47\n",
      "          15       0.00      0.00      0.00        36\n",
      "          16       0.00      0.00      0.00        37\n",
      "          17       0.00      0.00      0.00        46\n",
      "          18       0.00      0.00      0.00        49\n",
      "          19       0.00      0.00      0.00        49\n",
      "          20       0.00      0.00      0.00        51\n",
      "          21       0.00      0.00      0.00        24\n",
      "          22       0.00      0.00      0.00        45\n",
      "          23       0.00      0.00      0.00        32\n",
      "          24       0.00      0.00      0.00        30\n",
      "          25       0.00      0.00      0.00        46\n",
      "          26       0.00      0.00      0.00        31\n",
      "          27       0.00      0.00      0.00        18\n",
      "          28       0.00      0.00      0.00        27\n",
      "          29       0.00      0.00      0.00        26\n",
      "\n",
      "   micro avg       1.00      0.14      0.25      1647\n",
      "   macro avg       0.03      0.03      0.03      1647\n",
      "weighted avg       0.14      0.14      0.14      1647\n",
      " samples avg       1.00      0.18      0.29      1647\n",
      "\n",
      "Averaged Metrics:\n",
      "Averaged F1 score = [0. 1. 0. 0. 0. 0. 0. 0. 0. 0. 0. 0. 0. 0. 0. 0. 0. 0. 0. 0. 0. 0. 0. 0.\n",
      " 0. 0. 0. 0. 0. 0.]\n",
      "Averaged Precision score = [0. 1. 0. 0. 0. 0. 0. 0. 0. 0. 0. 0. 0. 0. 0. 0. 0. 0. 0. 0. 0. 0. 0. 0.\n",
      " 0. 0. 0. 0. 0. 0.]\n",
      "Averaged AUC Precision score = [0.41276596 1.         0.32340426 0.16595745 0.1106383  0.32340426\n",
      " 0.42978723 0.24255319 0.21702128 0.38723404 0.17021277 0.14893617\n",
      " 0.41702128 0.13191489 0.2        0.15319149 0.15744681 0.19574468\n",
      " 0.20851064 0.20851064 0.21702128 0.10212766 0.19148936 0.13617021\n",
      " 0.12765957 0.19574468 0.13191489 0.07659574 0.11489362 0.1106383 ]\n",
      "\n",
      "Macro-Averaged Metrics:\n",
      "Macro-Averaged F1 score = 0.03333333333333333\n",
      "Macro-Averaged Precision score = 0.03333333333333333\n",
      "Macro-Averaged AUC Precision score = 0.23361702127659575\n",
      "\n",
      "Micro-Averaged Metrics:\n",
      "Micro-Averaged F1 score = 0.24973432518597238\n",
      "Micro-Averaged Precision score = 1.0\n",
      "Micro-Averaged AUC Precision score = 0.34296735521709365\n",
      "\n"
     ]
    },
    {
     "name": "stderr",
     "output_type": "stream",
     "text": [
      "c:\\Users\\almusawiaf\\Anaconda3\\envs\\venvGNN\\lib\\site-packages\\sklearn\\metrics\\_classification.py:1344: UndefinedMetricWarning: Precision and F-score are ill-defined and being set to 0.0 in labels with no predicted samples. Use `zero_division` parameter to control this behavior.\n",
      "  _warn_prf(average, modifier, msg_start, len(result))\n",
      "c:\\Users\\almusawiaf\\Anaconda3\\envs\\venvGNN\\lib\\site-packages\\sklearn\\metrics\\_classification.py:1344: UndefinedMetricWarning: Precision is ill-defined and being set to 0.0 in labels with no predicted samples. Use `zero_division` parameter to control this behavior.\n",
      "  _warn_prf(average, modifier, msg_start, len(result))\n",
      "c:\\Users\\almusawiaf\\Anaconda3\\envs\\venvGNN\\lib\\site-packages\\sklearn\\metrics\\_classification.py:1344: UndefinedMetricWarning: Precision is ill-defined and being set to 0.0 in labels with no predicted samples. Use `zero_division` parameter to control this behavior.\n",
      "  _warn_prf(average, modifier, msg_start, len(result))\n"
     ]
    }
   ],
   "source": [
    "# ----------------------------------------------------------------------------\n",
    "pred = gcn(data) #.argmax(dim=1)\n",
    "pred    = pred  [data.test_mask].detach().cpu().numpy()\n",
    "correct = data.y[data.test_mask].detach().cpu().numpy()\n",
    "\n",
    "# print(pred.shape)\n",
    "# print(correct.shape)\n",
    "\n",
    "correct_binary = (correct > 0).astype(int)\n",
    "pred_binary = (pred > 0).astype(int)\n",
    "\n",
    "# GNNM.create_confusion_matrix(pred, correct)\n",
    "GNNM.create_multilabel_confusion_matrix(pred_binary, correct_binary)\n",
    "\n",
    "# test_acc, _ = GNNM.eval_node_classifier(gcn, data, data.test_mask)\n",
    "# print(f'Test Acc: {test_acc:.3f}\\n')"
   ]
  },
  {
   "cell_type": "code",
   "execution_count": 23,
   "metadata": {},
   "outputs": [
    {
     "name": "stdout",
     "output_type": "stream",
     "text": [
      "F1- score :  0.5855618532719913\n"
     ]
    }
   ],
   "source": [
    "from sklearn.metrics import f1_score\n",
    "print('F1- score : ', sum([f1_score(correct_binary[i], pred_binary[i], average='macro', zero_division=0) for i in range(len(correct_binary))])/len(correct_binary))"
   ]
  }
 ],
 "metadata": {
  "kernelspec": {
   "display_name": "base",
   "language": "python",
   "name": "python3"
  },
  "language_info": {
   "codemirror_mode": {
    "name": "ipython",
    "version": 3
   },
   "file_extension": ".py",
   "mimetype": "text/x-python",
   "name": "python",
   "nbconvert_exporter": "python",
   "pygments_lexer": "ipython3",
   "version": "3.9.16"
  },
  "orig_nbformat": 4
 },
 "nbformat": 4,
 "nbformat_minor": 2
}
